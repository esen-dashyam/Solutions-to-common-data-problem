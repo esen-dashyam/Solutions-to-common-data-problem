{
 "cells": [
  {
   "cell_type": "markdown",
   "metadata": {},
   "source": [
    "This will be an example me using pandas for data preparation plus data filtering."
   ]
  },
  {
   "cell_type": "markdown",
   "metadata": {},
   "source": [
    "We will first import the necessary packages"
   ]
  },
  {
   "cell_type": "code",
   "execution_count": 1,
   "metadata": {},
   "outputs": [],
   "source": [
    "import os \n",
    "import pandas as pd\n",
    "import nltk\n",
    "import nltk.corpus"
   ]
  },
  {
   "cell_type": "markdown",
   "metadata": {},
   "source": [
    "We will the import csv file "
   ]
  },
  {
   "cell_type": "markdown",
   "metadata": {},
   "source": [
    "Simple example of using pandas "
   ]
  },
  {
   "cell_type": "code",
   "execution_count": 2,
   "metadata": {},
   "outputs": [
    {
     "name": "stdout",
     "output_type": "stream",
     "text": [
      "0     52000000000\n",
      "1       295000000\n",
      "2       240000000\n",
      "3       390000000\n",
      "4      8980000000\n",
      "         ...     \n",
      "61      490000000\n",
      "62    35000000000\n",
      "63    37600000000\n",
      "64    21000000000\n",
      "65      295000000\n",
      "Name: Hun shig price, Length: 66, dtype: int64\n",
      "0                   Kh appartment хотхонд 5 давхрын ...\n",
      "1                   Дүнжингарав хотхонд 4 өрөө 104,7...\n",
      "2                   Бзд 16 хороололд 2 өрөө байр    ...\n",
      "3                   Наадам сентрийн хойно 3 өрөө бай...\n",
      "4                   Тарвалин хотхонд 1өрөө байр     ...\n",
      "                            ...                        \n",
      "61                   Хүннү 2222т 4 өрөө байр           \n",
      "62                Хан-уул нэхмэл хотхонд 80,22m2 3 ө...\n",
      "63                Худ- д хунгийн хотхонд 94м2 3 өрөө...\n",
      "64                Саруул хотхонд 68м2 ,3 өрөө байр  ...\n",
      "65                Натурт, шинэ дөл хотхонд 3 өрөө ба...\n",
      "Name: title, Length: 66, dtype: object\n"
     ]
    }
   ],
   "source": [
    "df = pd.read_csv('housing.csv')\n",
    "df['Hun shig price']=df['price'].astype('str').str.extractall('(\\d+)').unstack().fillna('').sum(axis=1).astype(int)\n",
    "print(df['Hun shig price'])\n",
    "x=df['title']\n",
    "print(x)"
   ]
  },
  {
   "cell_type": "markdown",
   "metadata": {},
   "source": [
    "I have been using Pandas for problems like fitting polynomials and for few other projects so i do believe this will conclude that \n"
   ]
  },
  {
   "cell_type": "code",
   "execution_count": 3,
   "metadata": {},
   "outputs": [
    {
     "name": "stdout",
     "output_type": "stream",
     "text": [
      "[13, 9, 22, 4, 17]\n"
     ]
    }
   ],
   "source": [
    "nums=[12,8,21,3,16]\n",
    "new_nums=[]\n",
    "for num in nums:\n",
    "    new_nums.append(num+1)\n",
    "print(new_nums)"
   ]
  }
 ],
 "metadata": {
  "kernelspec": {
   "display_name": "Python 3.10.5 64-bit",
   "language": "python",
   "name": "python3"
  },
  "language_info": {
   "codemirror_mode": {
    "name": "ipython",
    "version": 3
   },
   "file_extension": ".py",
   "mimetype": "text/x-python",
   "name": "python",
   "nbconvert_exporter": "python",
   "pygments_lexer": "ipython3",
   "version": "3.10.5"
  },
  "orig_nbformat": 4,
  "vscode": {
   "interpreter": {
    "hash": "aee8b7b246df8f9039afb4144a1f6fd8d2ca17a180786b69acc140d282b71a49"
   }
  }
 },
 "nbformat": 4,
 "nbformat_minor": 2
}
