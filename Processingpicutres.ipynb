{
 "cells": [
  {
   "cell_type": "markdown",
   "metadata": {},
   "source": [
    "Gray scaling Project solution to problem 3b.1"
   ]
  },
  {
   "cell_type": "code",
   "execution_count": 3,
   "metadata": {},
   "outputs": [],
   "source": [
    "from matplotlib.image import imread\n",
    "from skimage.restoration import inpaint\n",
    "import matplotlib.pyplot as plt\n",
    "import numpy as np \n",
    "import cv2\n",
    "import pandas as pd\n",
    "import skimage\n",
    "import PIL"
   ]
  },
  {
   "cell_type": "code",
   "execution_count": null,
   "metadata": {},
   "outputs": [],
   "source": [
    "input_image=imread('bathroompic.jpg')\n",
    "\n",
    "r,g,b=input_image[:,:,0],input_image[:,:,1],input_image[:,:,2]\n",
    "\n",
    "gamma= 1.04\n",
    "\n",
    "r_const,g_const,b_const=0.2126,0.7152,0.0722\n",
    "\n",
    "grayscale_imag=r_const*r**gamma+g_const*g*gamma+b_const*b**gamma\n",
    "\n",
    "fig=plt.figure(1)\n",
    "img1,img2=fig.add_subplot(121),fig.add_subplot(122)\n",
    "\n",
    "img1.imshow(input_image)\n",
    "img2.imshow(grayscale_imag,cmap=plt.cm.get_cmap('gray'))\n",
    "\n",
    "fig.show()\n",
    "plt.show()"
   ]
  },
  {
   "cell_type": "markdown",
   "metadata": {},
   "source": [
    "Resize the image "
   ]
  },
  {
   "cell_type": "code",
   "execution_count": null,
   "metadata": {},
   "outputs": [],
   "source": [
    "from PIL import Image\n",
    "im=Image.open('bathroompic.jpg')\n",
    "new_size=im.resize((200,300))\n",
    "new_size.show()"
   ]
  },
  {
   "cell_type": "markdown",
   "metadata": {},
   "source": [
    "Rotating Picture\n",
    "instead of 90 we can choose our theta of our choice "
   ]
  },
  {
   "cell_type": "code",
   "execution_count": null,
   "metadata": {},
   "outputs": [],
   "source": [
    "img=Image.open('some building.jpg')\n",
    "\n",
    "img = img.rotate(angle=90,expand=True,fillcolor='green',center=(300,300))\n",
    "\n",
    "img.show()\n"
   ]
  },
  {
   "cell_type": "markdown",
   "metadata": {},
   "source": [
    "Another method would be to use rotation matrix"
   ]
  },
  {
   "cell_type": "code",
   "execution_count": null,
   "metadata": {},
   "outputs": [],
   "source": [
    "import cv2\n",
    "\n",
    "img=cv2.imread('bathroompic.jpg',1)\n",
    "rows,cols,ht= img.shape\n",
    "matrix=cv2.getRotationMatrix2D((rows/2,cols/2),60,1)\n",
    "new_img=cv2.warpAffine(img,matrix,(cols,rows))\n",
    "\n",
    "cv2.imshow('output',new_img)\n",
    "cv2.imwrite('rotated_img.jpg',new_img)\n",
    "\n",
    "cv2.waitKey(0)\n",
    "cv2.destroyAllWindows()\n"
   ]
  },
  {
   "cell_type": "markdown",
   "metadata": {},
   "source": [
    "Code for noise reduction(TWO things did not understand so i will implement two different codes)For noise reduction i will try to make the blue go way \n",
    "Also another code to remove trademark with logo of unegui.mn"
   ]
  },
  {
   "cell_type": "code",
   "execution_count": null,
   "metadata": {},
   "outputs": [],
   "source": [
    "img=cv2.imread(\"somehotelpic.jpeg\")\n",
    "averaging=cv2.blur(img,(5,5))\n",
    "gaussian=cv2.GaussianBlur(img,(5,5),0)\n",
    "\n",
    "cv2.imshow(\"Original Image\",img)\n",
    "cv2.imshow(\"Averaging\",averaging)\n",
    "cv2.imshow(\"Gaussian\",gaussian)\n",
    "cv2.waitKey(0)\n",
    "cv2.destroyAllWindows\n"
   ]
  },
  {
   "cell_type": "markdown",
   "metadata": {},
   "source": [
    "Only problem i encountered was finding the right Pixels for each picture other than that the code should work fine \n",
    "I commented the whole thing just in case"
   ]
  },
  {
   "cell_type": "code",
   "execution_count": null,
   "metadata": {},
   "outputs": [],
   "source": [
    "\n",
    "#image_with_logo=imread('bathroompic.jpg')\n",
    "#mask = np.zeros(image_with_logo.shape[:-1])\n",
    "\n",
    "#mask[200:290, 120:425] = 1\n",
    "\n",
    "\n",
    "#image_logo_removed = inpaint.inpaint_biharmonic(image_with_logo, mask, multichannel=True)\n",
    "#show_image(image_with_logo, 'Image with logo')\n",
    "#show_image(image_logo_removed, 'Image with logo removed')"
   ]
  },
  {
   "cell_type": "code",
   "execution_count": null,
   "metadata": {},
   "outputs": [],
   "source": [
    "from skimage.restoration import denoise_tv_chambolle\n",
    "noisy_image=imread('somehotelpic.jpeg')\n",
    "denoised_image = denoise_tv_chambolle(noisy_image, \n",
    "                                      multichannel=True)\n",
    "\n",
    "show_image(noisy_image, 'Noisy')\n",
    "show_image(denoised_image, 'Denoised image') "
   ]
  }
 ],
 "metadata": {
  "kernelspec": {
   "display_name": "Python 3.10.5 64-bit",
   "language": "python",
   "name": "python3"
  },
  "language_info": {
   "codemirror_mode": {
    "name": "ipython",
    "version": 3
   },
   "file_extension": ".py",
   "mimetype": "text/x-python",
   "name": "python",
   "nbconvert_exporter": "python",
   "pygments_lexer": "ipython3",
   "version": "3.10.5"
  },
  "orig_nbformat": 4,
  "vscode": {
   "interpreter": {
    "hash": "aee8b7b246df8f9039afb4144a1f6fd8d2ca17a180786b69acc140d282b71a49"
   }
  }
 },
 "nbformat": 4,
 "nbformat_minor": 2
}
